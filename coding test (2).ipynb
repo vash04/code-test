{
 "cells": [
  {
   "cell_type": "code",
   "execution_count": 1,
   "id": "0c3cd50a",
   "metadata": {},
   "outputs": [],
   "source": [
    "def premium_calculation(gender, birth_year, smoker):\n",
    "    gender=input('enter your gender(male/female):')\n",
    "    birth_year=int(input('enter your birth year:'))\n",
    "    smoker=input('are you a smoker(yes/no):')\n",
    "    premium=0\n",
    "    discount=0\n",
    "    if gender=='male':\n",
    "        if 1990<=birth_year<=2000:\n",
    "            premium=35000\n",
    "            if smoker=='no':\n",
    "                dicount=0.1\n",
    "            else:\n",
    "                0\n",
    "        elif 1970<=birth_year<1990:\n",
    "            premium=40000\n",
    "            if smoker=='no':\n",
    "                discount=0.05\n",
    "            else:\n",
    "                0\n",
    "    elif gender=='female':\n",
    "        if 1990<=birth_year<=2000:\n",
    "                premium=30000\n",
    "                if smoker=='no':\n",
    "                    discount=0.1\n",
    "                else:\n",
    "                    0\n",
    "        elif 1970<=birth_year<1990:\n",
    "                premium=35000\n",
    "                if smoker=='no':\n",
    "                    discount=0.05\n",
    "                else:\n",
    "                    0\n",
    "    final_premium=premium*(1-discount)\n",
    "    return print('Your annual premium is', final_premium)\n",
    "                     \n",
    "            \n"
   ]
  },
  {
   "cell_type": "code",
   "execution_count": 2,
   "id": "7ab13f30",
   "metadata": {},
   "outputs": [
    {
     "ename": "NameError",
     "evalue": "name 'gender' is not defined",
     "output_type": "error",
     "traceback": [
      "\u001b[1;31m---------------------------------------------------------------------------\u001b[0m",
      "\u001b[1;31mNameError\u001b[0m                                 Traceback (most recent call last)",
      "Cell \u001b[1;32mIn[2], line 1\u001b[0m\n\u001b[1;32m----> 1\u001b[0m premium_calculation(gender, birth_year, smoker)\n",
      "\u001b[1;31mNameError\u001b[0m: name 'gender' is not defined"
     ]
    }
   ],
   "source": [
    "premium_calculation(gender, birth_year, smoker)"
   ]
  },
  {
   "cell_type": "code",
   "execution_count": null,
   "id": "c66a335d",
   "metadata": {},
   "outputs": [],
   "source": [
    "#already defined gender as an input i can't understand why it is giving a name error"
   ]
  }
 ],
 "metadata": {
  "kernelspec": {
   "display_name": "Python 3 (ipykernel)",
   "language": "python",
   "name": "python3"
  },
  "language_info": {
   "codemirror_mode": {
    "name": "ipython",
    "version": 3
   },
   "file_extension": ".py",
   "mimetype": "text/x-python",
   "name": "python",
   "nbconvert_exporter": "python",
   "pygments_lexer": "ipython3",
   "version": "3.11.5"
  }
 },
 "nbformat": 4,
 "nbformat_minor": 5
}
