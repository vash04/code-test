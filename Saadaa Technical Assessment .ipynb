{
 "cells": [
  {
   "cell_type": "code",
   "execution_count": 3,
   "id": "c6dc1140",
   "metadata": {},
   "outputs": [],
   "source": [
    "import pandas as pd\n",
    "import numpy as np"
   ]
  },
  {
   "cell_type": "code",
   "execution_count": 130,
   "id": "f91cb7e5",
   "metadata": {},
   "outputs": [
    {
     "data": {
      "text/html": [
       "<div>\n",
       "<style scoped>\n",
       "    .dataframe tbody tr th:only-of-type {\n",
       "        vertical-align: middle;\n",
       "    }\n",
       "\n",
       "    .dataframe tbody tr th {\n",
       "        vertical-align: top;\n",
       "    }\n",
       "\n",
       "    .dataframe thead th {\n",
       "        text-align: right;\n",
       "    }\n",
       "</style>\n",
       "<table border=\"1\" class=\"dataframe\">\n",
       "  <thead>\n",
       "    <tr style=\"text-align: right;\">\n",
       "      <th></th>\n",
       "      <th>customer_id</th>\n",
       "      <th>customer_tenure</th>\n",
       "      <th>customer_location</th>\n",
       "      <th>customer_type</th>\n",
       "      <th>order_id</th>\n",
       "      <th>order_date</th>\n",
       "      <th>order_value</th>\n",
       "      <th>payment_method</th>\n",
       "      <th>order_frequency</th>\n",
       "      <th>discount_applied</th>\n",
       "      <th>return_status</th>\n",
       "      <th>product_category</th>\n",
       "      <th>product_sku</th>\n",
       "      <th>size</th>\n",
       "      <th>inventory_status</th>\n",
       "      <th>source</th>\n",
       "      <th>engagement_score</th>\n",
       "    </tr>\n",
       "  </thead>\n",
       "  <tbody>\n",
       "    <tr>\n",
       "      <th>0</th>\n",
       "      <td>CUST00001</td>\n",
       "      <td>39</td>\n",
       "      <td>Delhi</td>\n",
       "      <td>Returning</td>\n",
       "      <td>ORD000001</td>\n",
       "      <td>04:51.9</td>\n",
       "      <td>4015.21</td>\n",
       "      <td>Net Banking</td>\n",
       "      <td>9</td>\n",
       "      <td>5</td>\n",
       "      <td>No</td>\n",
       "      <td>Jackets</td>\n",
       "      <td>SKU0001</td>\n",
       "      <td>XXL</td>\n",
       "      <td>In Stock</td>\n",
       "      <td>Word of Mouth</td>\n",
       "      <td>36</td>\n",
       "    </tr>\n",
       "    <tr>\n",
       "      <th>1</th>\n",
       "      <td>CUST00002</td>\n",
       "      <td>52</td>\n",
       "      <td>Hyderabad</td>\n",
       "      <td>Returning</td>\n",
       "      <td>ORD000002</td>\n",
       "      <td>39:38.4</td>\n",
       "      <td>2205.61</td>\n",
       "      <td>Credit Card</td>\n",
       "      <td>3</td>\n",
       "      <td>15</td>\n",
       "      <td>No</td>\n",
       "      <td>T-Shirts</td>\n",
       "      <td>SKU0002</td>\n",
       "      <td>S</td>\n",
       "      <td>Out of Stock</td>\n",
       "      <td>Google Ads</td>\n",
       "      <td>37</td>\n",
       "    </tr>\n",
       "    <tr>\n",
       "      <th>2</th>\n",
       "      <td>CUST00003</td>\n",
       "      <td>29</td>\n",
       "      <td>Pune</td>\n",
       "      <td>Returning</td>\n",
       "      <td>ORD000003</td>\n",
       "      <td>15:18.9</td>\n",
       "      <td>858.84</td>\n",
       "      <td>Net Banking</td>\n",
       "      <td>8</td>\n",
       "      <td>30</td>\n",
       "      <td>No</td>\n",
       "      <td>T-Shirts</td>\n",
       "      <td>SKU0003</td>\n",
       "      <td>L</td>\n",
       "      <td>In Stock</td>\n",
       "      <td>Email Marketing</td>\n",
       "      <td>95</td>\n",
       "    </tr>\n",
       "    <tr>\n",
       "      <th>3</th>\n",
       "      <td>CUST00004</td>\n",
       "      <td>15</td>\n",
       "      <td>Jaipur</td>\n",
       "      <td>Returning</td>\n",
       "      <td>ORD000004</td>\n",
       "      <td>52:58.4</td>\n",
       "      <td>500.00</td>\n",
       "      <td>UPI</td>\n",
       "      <td>1</td>\n",
       "      <td>0</td>\n",
       "      <td>No</td>\n",
       "      <td>T-Shirts</td>\n",
       "      <td>SKU0004</td>\n",
       "      <td>XXL</td>\n",
       "      <td>In Stock</td>\n",
       "      <td>Word of Mouth</td>\n",
       "      <td>10</td>\n",
       "    </tr>\n",
       "    <tr>\n",
       "      <th>4</th>\n",
       "      <td>CUST00005</td>\n",
       "      <td>43</td>\n",
       "      <td>Pune</td>\n",
       "      <td>Returning</td>\n",
       "      <td>ORD000005</td>\n",
       "      <td>17:39.5</td>\n",
       "      <td>1843.50</td>\n",
       "      <td>Wallet</td>\n",
       "      <td>9</td>\n",
       "      <td>40</td>\n",
       "      <td>Yes</td>\n",
       "      <td>Sweatshirts</td>\n",
       "      <td>SKU0005</td>\n",
       "      <td>L</td>\n",
       "      <td>In Stock</td>\n",
       "      <td>Word of Mouth</td>\n",
       "      <td>0</td>\n",
       "    </tr>\n",
       "  </tbody>\n",
       "</table>\n",
       "</div>"
      ],
      "text/plain": [
       "  customer_id  customer_tenure customer_location customer_type   order_id  \\\n",
       "0   CUST00001               39             Delhi     Returning  ORD000001   \n",
       "1   CUST00002               52         Hyderabad     Returning  ORD000002   \n",
       "2   CUST00003               29              Pune     Returning  ORD000003   \n",
       "3   CUST00004               15            Jaipur     Returning  ORD000004   \n",
       "4   CUST00005               43              Pune     Returning  ORD000005   \n",
       "\n",
       "  order_date  order_value payment_method  order_frequency  discount_applied  \\\n",
       "0    04:51.9      4015.21    Net Banking                9                 5   \n",
       "1    39:38.4      2205.61    Credit Card                3                15   \n",
       "2    15:18.9       858.84    Net Banking                8                30   \n",
       "3    52:58.4       500.00            UPI                1                 0   \n",
       "4    17:39.5      1843.50         Wallet                9                40   \n",
       "\n",
       "  return_status product_category product_sku size inventory_status  \\\n",
       "0            No          Jackets     SKU0001  XXL         In Stock   \n",
       "1            No         T-Shirts     SKU0002    S     Out of Stock   \n",
       "2            No         T-Shirts     SKU0003    L         In Stock   \n",
       "3            No         T-Shirts     SKU0004  XXL         In Stock   \n",
       "4           Yes      Sweatshirts     SKU0005    L         In Stock   \n",
       "\n",
       "            source  engagement_score  \n",
       "0    Word of Mouth                36  \n",
       "1       Google Ads                37  \n",
       "2  Email Marketing                95  \n",
       "3    Word of Mouth                10  \n",
       "4    Word of Mouth                 0  "
      ]
     },
     "execution_count": 130,
     "metadata": {},
     "output_type": "execute_result"
    }
   ],
   "source": [
    "df=pd.read_csv(\"SAADAA_assessment_data - Sheet1.csv\")\n",
    "df.head()"
   ]
  },
  {
   "cell_type": "code",
   "execution_count": 16,
   "id": "e9604e86",
   "metadata": {},
   "outputs": [
    {
     "data": {
      "text/plain": [
       "customer_type\n",
       "Returning    810\n",
       "New          190\n",
       "Name: count, dtype: int64"
      ]
     },
     "execution_count": 16,
     "metadata": {},
     "output_type": "execute_result"
    }
   ],
   "source": [
    "df[\"customer_type\"].value_counts().sort_values(ascending=False)"
   ]
  },
  {
   "cell_type": "code",
   "execution_count": 17,
   "id": "d560dced",
   "metadata": {},
   "outputs": [
    {
     "data": {
      "text/plain": [
       "customer_location\n",
       "Pune         136\n",
       "Kolkata      133\n",
       "Bangalore    132\n",
       "Delhi        131\n",
       "Mumbai       129\n",
       "Chennai      120\n",
       "Jaipur       112\n",
       "Hyderabad    107\n",
       "Name: count, dtype: int64"
      ]
     },
     "execution_count": 17,
     "metadata": {},
     "output_type": "execute_result"
    }
   ],
   "source": [
    "df[\"customer_location\"].value_counts().sort_values(ascending=False)"
   ]
  },
  {
   "cell_type": "code",
   "execution_count": 18,
   "id": "5e85ad97",
   "metadata": {},
   "outputs": [
    {
     "data": {
      "text/plain": [
       "order_frequency\n",
       "6    127\n",
       "8    120\n",
       "7    116\n",
       "3    112\n",
       "1    112\n",
       "4    111\n",
       "5    103\n",
       "2    100\n",
       "9     99\n",
       "Name: count, dtype: int64"
      ]
     },
     "execution_count": 18,
     "metadata": {},
     "output_type": "execute_result"
    }
   ],
   "source": [
    "df[\"order_frequency\"].value_counts().sort_values(ascending=False)"
   ]
  },
  {
   "cell_type": "code",
   "execution_count": 24,
   "id": "ff0617f4",
   "metadata": {},
   "outputs": [
    {
     "data": {
      "text/html": [
       "<div>\n",
       "<style scoped>\n",
       "    .dataframe tbody tr th:only-of-type {\n",
       "        vertical-align: middle;\n",
       "    }\n",
       "\n",
       "    .dataframe tbody tr th {\n",
       "        vertical-align: top;\n",
       "    }\n",
       "\n",
       "    .dataframe thead th {\n",
       "        text-align: right;\n",
       "    }\n",
       "</style>\n",
       "<table border=\"1\" class=\"dataframe\">\n",
       "  <thead>\n",
       "    <tr style=\"text-align: right;\">\n",
       "      <th></th>\n",
       "      <th>order_value</th>\n",
       "      <th>order_id</th>\n",
       "    </tr>\n",
       "  </thead>\n",
       "  <tbody>\n",
       "    <tr>\n",
       "      <th>43</th>\n",
       "      <td>7251.06</td>\n",
       "      <td>ORD000044</td>\n",
       "    </tr>\n",
       "    <tr>\n",
       "      <th>212</th>\n",
       "      <td>7157.30</td>\n",
       "      <td>ORD000213</td>\n",
       "    </tr>\n",
       "    <tr>\n",
       "      <th>537</th>\n",
       "      <td>6549.57</td>\n",
       "      <td>ORD000538</td>\n",
       "    </tr>\n",
       "    <tr>\n",
       "      <th>6</th>\n",
       "      <td>6396.56</td>\n",
       "      <td>ORD000007</td>\n",
       "    </tr>\n",
       "    <tr>\n",
       "      <th>214</th>\n",
       "      <td>6390.36</td>\n",
       "      <td>ORD000215</td>\n",
       "    </tr>\n",
       "    <tr>\n",
       "      <th>...</th>\n",
       "      <td>...</td>\n",
       "      <td>...</td>\n",
       "    </tr>\n",
       "    <tr>\n",
       "      <th>573</th>\n",
       "      <td>500.00</td>\n",
       "      <td>ORD000574</td>\n",
       "    </tr>\n",
       "    <tr>\n",
       "      <th>341</th>\n",
       "      <td>500.00</td>\n",
       "      <td>ORD000342</td>\n",
       "    </tr>\n",
       "    <tr>\n",
       "      <th>343</th>\n",
       "      <td>500.00</td>\n",
       "      <td>ORD000344</td>\n",
       "    </tr>\n",
       "    <tr>\n",
       "      <th>144</th>\n",
       "      <td>500.00</td>\n",
       "      <td>ORD000145</td>\n",
       "    </tr>\n",
       "    <tr>\n",
       "      <th>613</th>\n",
       "      <td>500.00</td>\n",
       "      <td>ORD000614</td>\n",
       "    </tr>\n",
       "  </tbody>\n",
       "</table>\n",
       "<p>1000 rows × 2 columns</p>\n",
       "</div>"
      ],
      "text/plain": [
       "     order_value   order_id\n",
       "43       7251.06  ORD000044\n",
       "212      7157.30  ORD000213\n",
       "537      6549.57  ORD000538\n",
       "6        6396.56  ORD000007\n",
       "214      6390.36  ORD000215\n",
       "..           ...        ...\n",
       "573       500.00  ORD000574\n",
       "341       500.00  ORD000342\n",
       "343       500.00  ORD000344\n",
       "144       500.00  ORD000145\n",
       "613       500.00  ORD000614\n",
       "\n",
       "[1000 rows x 2 columns]"
      ]
     },
     "execution_count": 24,
     "metadata": {},
     "output_type": "execute_result"
    }
   ],
   "source": [
    "df[[\"order_value\", \"order_id\"]].sort_values(\"order_value\", ascending=False)"
   ]
  },
  {
   "cell_type": "code",
   "execution_count": 28,
   "id": "6ce87ad6",
   "metadata": {},
   "outputs": [
    {
     "data": {
      "text/plain": [
       "product_category\n",
       "Jackets        175\n",
       "Jeans          173\n",
       "T-Shirts       169\n",
       "Shirts         169\n",
       "Dresses        166\n",
       "Sweatshirts    148\n",
       "Name: count, dtype: int64"
      ]
     },
     "execution_count": 28,
     "metadata": {},
     "output_type": "execute_result"
    }
   ],
   "source": [
    "df[\"product_category\"].value_counts()"
   ]
  },
  {
   "cell_type": "code",
   "execution_count": 31,
   "id": "405737fd",
   "metadata": {},
   "outputs": [
    {
     "data": {
      "text/plain": [
       "inventory_status\n",
       "In Stock        899\n",
       "Out of Stock    101\n",
       "Name: count, dtype: int64"
      ]
     },
     "execution_count": 31,
     "metadata": {},
     "output_type": "execute_result"
    }
   ],
   "source": [
    "df[\"inventory_status\"].value_counts()"
   ]
  },
  {
   "cell_type": "code",
   "execution_count": 35,
   "id": "158de76d",
   "metadata": {},
   "outputs": [
    {
     "data": {
      "text/plain": [
       "source\n",
       "Email Marketing    219\n",
       "Facebook Ads       219\n",
       "Word of Mouth      190\n",
       "Instagram          187\n",
       "Google Ads         185\n",
       "Name: count, dtype: int64"
      ]
     },
     "execution_count": 35,
     "metadata": {},
     "output_type": "execute_result"
    }
   ],
   "source": [
    "df[\"source\"].value_counts()"
   ]
  },
  {
   "cell_type": "code",
   "execution_count": 38,
   "id": "2f92d244",
   "metadata": {},
   "outputs": [
    {
     "data": {
      "text/plain": [
       "customer_type\n",
       "Returning    810\n",
       "New          190\n",
       "Name: count, dtype: int64"
      ]
     },
     "execution_count": 38,
     "metadata": {},
     "output_type": "execute_result"
    }
   ],
   "source": [
    "df[\"customer_type\"].value_counts()"
   ]
  },
  {
   "cell_type": "code",
   "execution_count": 50,
   "id": "69dedfab",
   "metadata": {},
   "outputs": [
    {
     "data": {
      "text/html": [
       "<div>\n",
       "<style scoped>\n",
       "    .dataframe tbody tr th:only-of-type {\n",
       "        vertical-align: middle;\n",
       "    }\n",
       "\n",
       "    .dataframe tbody tr th {\n",
       "        vertical-align: top;\n",
       "    }\n",
       "\n",
       "    .dataframe thead th {\n",
       "        text-align: right;\n",
       "    }\n",
       "</style>\n",
       "<table border=\"1\" class=\"dataframe\">\n",
       "  <thead>\n",
       "    <tr style=\"text-align: right;\">\n",
       "      <th></th>\n",
       "      <th>discount_applied</th>\n",
       "      <th>customer_id</th>\n",
       "      <th>order_frequency</th>\n",
       "    </tr>\n",
       "  </thead>\n",
       "  <tbody>\n",
       "    <tr>\n",
       "      <th>399</th>\n",
       "      <td>50</td>\n",
       "      <td>CUST00400</td>\n",
       "      <td>8</td>\n",
       "    </tr>\n",
       "    <tr>\n",
       "      <th>920</th>\n",
       "      <td>50</td>\n",
       "      <td>CUST00921</td>\n",
       "      <td>6</td>\n",
       "    </tr>\n",
       "    <tr>\n",
       "      <th>886</th>\n",
       "      <td>50</td>\n",
       "      <td>CUST00887</td>\n",
       "      <td>5</td>\n",
       "    </tr>\n",
       "    <tr>\n",
       "      <th>860</th>\n",
       "      <td>50</td>\n",
       "      <td>CUST00861</td>\n",
       "      <td>1</td>\n",
       "    </tr>\n",
       "    <tr>\n",
       "      <th>513</th>\n",
       "      <td>50</td>\n",
       "      <td>CUST00514</td>\n",
       "      <td>9</td>\n",
       "    </tr>\n",
       "    <tr>\n",
       "      <th>...</th>\n",
       "      <td>...</td>\n",
       "      <td>...</td>\n",
       "      <td>...</td>\n",
       "    </tr>\n",
       "    <tr>\n",
       "      <th>396</th>\n",
       "      <td>0</td>\n",
       "      <td>CUST00397</td>\n",
       "      <td>4</td>\n",
       "    </tr>\n",
       "    <tr>\n",
       "      <th>400</th>\n",
       "      <td>0</td>\n",
       "      <td>CUST00401</td>\n",
       "      <td>6</td>\n",
       "    </tr>\n",
       "    <tr>\n",
       "      <th>409</th>\n",
       "      <td>0</td>\n",
       "      <td>CUST00410</td>\n",
       "      <td>8</td>\n",
       "    </tr>\n",
       "    <tr>\n",
       "      <th>766</th>\n",
       "      <td>0</td>\n",
       "      <td>CUST00767</td>\n",
       "      <td>6</td>\n",
       "    </tr>\n",
       "    <tr>\n",
       "      <th>500</th>\n",
       "      <td>0</td>\n",
       "      <td>CUST00501</td>\n",
       "      <td>9</td>\n",
       "    </tr>\n",
       "  </tbody>\n",
       "</table>\n",
       "<p>1000 rows × 3 columns</p>\n",
       "</div>"
      ],
      "text/plain": [
       "     discount_applied customer_id  order_frequency\n",
       "399                50   CUST00400                8\n",
       "920                50   CUST00921                6\n",
       "886                50   CUST00887                5\n",
       "860                50   CUST00861                1\n",
       "513                50   CUST00514                9\n",
       "..                ...         ...              ...\n",
       "396                 0   CUST00397                4\n",
       "400                 0   CUST00401                6\n",
       "409                 0   CUST00410                8\n",
       "766                 0   CUST00767                6\n",
       "500                 0   CUST00501                9\n",
       "\n",
       "[1000 rows x 3 columns]"
      ]
     },
     "execution_count": 50,
     "metadata": {},
     "output_type": "execute_result"
    }
   ],
   "source": [
    "df[[\"discount_applied\", \"customer_id\", \"order_frequency\"]].sort_values(by=\"discount_applied\", ascending=False)"
   ]
  },
  {
   "cell_type": "code",
   "execution_count": 44,
   "id": "1d9e8f66",
   "metadata": {},
   "outputs": [
    {
     "data": {
      "text/plain": [
       "size\n",
       "S      233\n",
       "XXL    198\n",
       "M      197\n",
       "L      186\n",
       "XL     186\n",
       "Name: count, dtype: int64"
      ]
     },
     "execution_count": 44,
     "metadata": {},
     "output_type": "execute_result"
    }
   ],
   "source": [
    "df[\"size\"].value_counts()"
   ]
  },
  {
   "cell_type": "code",
   "execution_count": 53,
   "id": "557488df",
   "metadata": {},
   "outputs": [
    {
     "data": {
      "text/plain": [
       "return_status\n",
       "No     796\n",
       "Yes    204\n",
       "Name: count, dtype: int64"
      ]
     },
     "execution_count": 53,
     "metadata": {},
     "output_type": "execute_result"
    }
   ],
   "source": [
    "df[\"return_status\"].value_counts()"
   ]
  },
  {
   "cell_type": "code",
   "execution_count": 107,
   "id": "277651fd",
   "metadata": {},
   "outputs": [
    {
     "data": {
      "text/html": [
       "<div>\n",
       "<style scoped>\n",
       "    .dataframe tbody tr th:only-of-type {\n",
       "        vertical-align: middle;\n",
       "    }\n",
       "\n",
       "    .dataframe tbody tr th {\n",
       "        vertical-align: top;\n",
       "    }\n",
       "\n",
       "    .dataframe thead th {\n",
       "        text-align: right;\n",
       "    }\n",
       "</style>\n",
       "<table border=\"1\" class=\"dataframe\">\n",
       "  <thead>\n",
       "    <tr style=\"text-align: right;\">\n",
       "      <th>return_status</th>\n",
       "      <th>No</th>\n",
       "      <th>Yes</th>\n",
       "    </tr>\n",
       "    <tr>\n",
       "      <th>product_category</th>\n",
       "      <th></th>\n",
       "      <th></th>\n",
       "    </tr>\n",
       "  </thead>\n",
       "  <tbody>\n",
       "    <tr>\n",
       "      <th>Dresses</th>\n",
       "      <td>134</td>\n",
       "      <td>32</td>\n",
       "    </tr>\n",
       "    <tr>\n",
       "      <th>Jackets</th>\n",
       "      <td>145</td>\n",
       "      <td>30</td>\n",
       "    </tr>\n",
       "    <tr>\n",
       "      <th>Jeans</th>\n",
       "      <td>132</td>\n",
       "      <td>41</td>\n",
       "    </tr>\n",
       "    <tr>\n",
       "      <th>Shirts</th>\n",
       "      <td>131</td>\n",
       "      <td>38</td>\n",
       "    </tr>\n",
       "    <tr>\n",
       "      <th>Sweatshirts</th>\n",
       "      <td>117</td>\n",
       "      <td>31</td>\n",
       "    </tr>\n",
       "    <tr>\n",
       "      <th>T-Shirts</th>\n",
       "      <td>137</td>\n",
       "      <td>32</td>\n",
       "    </tr>\n",
       "  </tbody>\n",
       "</table>\n",
       "</div>"
      ],
      "text/plain": [
       "return_status      No  Yes\n",
       "product_category          \n",
       "Dresses           134   32\n",
       "Jackets           145   30\n",
       "Jeans             132   41\n",
       "Shirts            131   38\n",
       "Sweatshirts       117   31\n",
       "T-Shirts          137   32"
      ]
     },
     "execution_count": 107,
     "metadata": {},
     "output_type": "execute_result"
    }
   ],
   "source": [
    "temp_df=df.groupby(\"product_category\")[\"return_status\"].value_counts().unstack()\n",
    "temp_df"
   ]
  },
  {
   "cell_type": "code",
   "execution_count": 120,
   "id": "cf969ad7",
   "metadata": {},
   "outputs": [],
   "source": [
    "temp_df[\"return_percentage\"]=(temp_df[\"Yes\"].values)/(temp_df[\"No\"].values+temp_df[\"Yes\"].values)*100"
   ]
  },
  {
   "cell_type": "code",
   "execution_count": 121,
   "id": "1d41c417",
   "metadata": {},
   "outputs": [
    {
     "data": {
      "text/html": [
       "<div>\n",
       "<style scoped>\n",
       "    .dataframe tbody tr th:only-of-type {\n",
       "        vertical-align: middle;\n",
       "    }\n",
       "\n",
       "    .dataframe tbody tr th {\n",
       "        vertical-align: top;\n",
       "    }\n",
       "\n",
       "    .dataframe thead th {\n",
       "        text-align: right;\n",
       "    }\n",
       "</style>\n",
       "<table border=\"1\" class=\"dataframe\">\n",
       "  <thead>\n",
       "    <tr style=\"text-align: right;\">\n",
       "      <th>return_status</th>\n",
       "      <th>No</th>\n",
       "      <th>Yes</th>\n",
       "      <th>return_percentage</th>\n",
       "    </tr>\n",
       "    <tr>\n",
       "      <th>product_category</th>\n",
       "      <th></th>\n",
       "      <th></th>\n",
       "      <th></th>\n",
       "    </tr>\n",
       "  </thead>\n",
       "  <tbody>\n",
       "    <tr>\n",
       "      <th>Dresses</th>\n",
       "      <td>134</td>\n",
       "      <td>32</td>\n",
       "      <td>19.277108</td>\n",
       "    </tr>\n",
       "    <tr>\n",
       "      <th>Jackets</th>\n",
       "      <td>145</td>\n",
       "      <td>30</td>\n",
       "      <td>17.142857</td>\n",
       "    </tr>\n",
       "    <tr>\n",
       "      <th>Jeans</th>\n",
       "      <td>132</td>\n",
       "      <td>41</td>\n",
       "      <td>23.699422</td>\n",
       "    </tr>\n",
       "    <tr>\n",
       "      <th>Shirts</th>\n",
       "      <td>131</td>\n",
       "      <td>38</td>\n",
       "      <td>22.485207</td>\n",
       "    </tr>\n",
       "    <tr>\n",
       "      <th>Sweatshirts</th>\n",
       "      <td>117</td>\n",
       "      <td>31</td>\n",
       "      <td>20.945946</td>\n",
       "    </tr>\n",
       "    <tr>\n",
       "      <th>T-Shirts</th>\n",
       "      <td>137</td>\n",
       "      <td>32</td>\n",
       "      <td>18.934911</td>\n",
       "    </tr>\n",
       "  </tbody>\n",
       "</table>\n",
       "</div>"
      ],
      "text/plain": [
       "return_status      No  Yes  return_percentage\n",
       "product_category                             \n",
       "Dresses           134   32          19.277108\n",
       "Jackets           145   30          17.142857\n",
       "Jeans             132   41          23.699422\n",
       "Shirts            131   38          22.485207\n",
       "Sweatshirts       117   31          20.945946\n",
       "T-Shirts          137   32          18.934911"
      ]
     },
     "execution_count": 121,
     "metadata": {},
     "output_type": "execute_result"
    }
   ],
   "source": [
    "temp_df"
   ]
  },
  {
   "cell_type": "code",
   "execution_count": 124,
   "id": "957a8ceb",
   "metadata": {},
   "outputs": [
    {
     "data": {
      "text/plain": [
       "inventory_status\n",
       "In Stock        899\n",
       "Out of Stock    101\n",
       "Name: count, dtype: int64"
      ]
     },
     "execution_count": 124,
     "metadata": {},
     "output_type": "execute_result"
    }
   ],
   "source": [
    "df[\"inventory_status\"].value_counts()"
   ]
  },
  {
   "cell_type": "markdown",
   "id": "8ef0eb06",
   "metadata": {},
   "source": [
    "# Now Making a Linear Regression Model to predict if a customer will return the order or not"
   ]
  },
  {
   "cell_type": "code",
   "execution_count": 127,
   "id": "90329ff9",
   "metadata": {},
   "outputs": [],
   "source": [
    "from sklearn.model_selection import train_test_split\n",
    "from sklearn.linear_model import LinearRegression\n",
    "from sklearn.metrics import mean_absolute_error"
   ]
  },
  {
   "cell_type": "markdown",
   "id": "3a1c7816",
   "metadata": {},
   "source": [
    "describing the data"
   ]
  },
  {
   "cell_type": "code",
   "execution_count": 131,
   "id": "03b167cf",
   "metadata": {},
   "outputs": [
    {
     "data": {
      "text/html": [
       "<div>\n",
       "<style scoped>\n",
       "    .dataframe tbody tr th:only-of-type {\n",
       "        vertical-align: middle;\n",
       "    }\n",
       "\n",
       "    .dataframe tbody tr th {\n",
       "        vertical-align: top;\n",
       "    }\n",
       "\n",
       "    .dataframe thead th {\n",
       "        text-align: right;\n",
       "    }\n",
       "</style>\n",
       "<table border=\"1\" class=\"dataframe\">\n",
       "  <thead>\n",
       "    <tr style=\"text-align: right;\">\n",
       "      <th></th>\n",
       "      <th>customer_tenure</th>\n",
       "      <th>order_value</th>\n",
       "      <th>order_frequency</th>\n",
       "      <th>discount_applied</th>\n",
       "      <th>engagement_score</th>\n",
       "    </tr>\n",
       "  </thead>\n",
       "  <tbody>\n",
       "    <tr>\n",
       "      <th>count</th>\n",
       "      <td>1000.000000</td>\n",
       "      <td>1000.000000</td>\n",
       "      <td>1000.000000</td>\n",
       "      <td>1000.00000</td>\n",
       "      <td>1000.000000</td>\n",
       "    </tr>\n",
       "    <tr>\n",
       "      <th>mean</th>\n",
       "      <td>31.200000</td>\n",
       "      <td>2600.555060</td>\n",
       "      <td>5.032000</td>\n",
       "      <td>14.72000</td>\n",
       "      <td>50.435000</td>\n",
       "    </tr>\n",
       "    <tr>\n",
       "      <th>std</th>\n",
       "      <td>17.372905</td>\n",
       "      <td>1394.337968</td>\n",
       "      <td>2.551762</td>\n",
       "      <td>14.22758</td>\n",
       "      <td>28.985582</td>\n",
       "    </tr>\n",
       "    <tr>\n",
       "      <th>min</th>\n",
       "      <td>1.000000</td>\n",
       "      <td>500.000000</td>\n",
       "      <td>1.000000</td>\n",
       "      <td>0.00000</td>\n",
       "      <td>0.000000</td>\n",
       "    </tr>\n",
       "    <tr>\n",
       "      <th>25%</th>\n",
       "      <td>17.000000</td>\n",
       "      <td>1565.915000</td>\n",
       "      <td>3.000000</td>\n",
       "      <td>0.00000</td>\n",
       "      <td>26.000000</td>\n",
       "    </tr>\n",
       "    <tr>\n",
       "      <th>50%</th>\n",
       "      <td>32.000000</td>\n",
       "      <td>2541.280000</td>\n",
       "      <td>5.000000</td>\n",
       "      <td>15.00000</td>\n",
       "      <td>51.000000</td>\n",
       "    </tr>\n",
       "    <tr>\n",
       "      <th>75%</th>\n",
       "      <td>47.000000</td>\n",
       "      <td>3541.415000</td>\n",
       "      <td>7.000000</td>\n",
       "      <td>25.00000</td>\n",
       "      <td>76.000000</td>\n",
       "    </tr>\n",
       "    <tr>\n",
       "      <th>max</th>\n",
       "      <td>60.000000</td>\n",
       "      <td>7251.060000</td>\n",
       "      <td>9.000000</td>\n",
       "      <td>50.00000</td>\n",
       "      <td>100.000000</td>\n",
       "    </tr>\n",
       "  </tbody>\n",
       "</table>\n",
       "</div>"
      ],
      "text/plain": [
       "       customer_tenure  order_value  order_frequency  discount_applied  \\\n",
       "count      1000.000000  1000.000000      1000.000000        1000.00000   \n",
       "mean         31.200000  2600.555060         5.032000          14.72000   \n",
       "std          17.372905  1394.337968         2.551762          14.22758   \n",
       "min           1.000000   500.000000         1.000000           0.00000   \n",
       "25%          17.000000  1565.915000         3.000000           0.00000   \n",
       "50%          32.000000  2541.280000         5.000000          15.00000   \n",
       "75%          47.000000  3541.415000         7.000000          25.00000   \n",
       "max          60.000000  7251.060000         9.000000          50.00000   \n",
       "\n",
       "       engagement_score  \n",
       "count       1000.000000  \n",
       "mean          50.435000  \n",
       "std           28.985582  \n",
       "min            0.000000  \n",
       "25%           26.000000  \n",
       "50%           51.000000  \n",
       "75%           76.000000  \n",
       "max          100.000000  "
      ]
     },
     "execution_count": 131,
     "metadata": {},
     "output_type": "execute_result"
    }
   ],
   "source": [
    "df.describe()"
   ]
  },
  {
   "cell_type": "code",
   "execution_count": 134,
   "id": "3e02ee67",
   "metadata": {},
   "outputs": [
    {
     "data": {
      "text/plain": [
       "customer_id          0\n",
       "customer_tenure      0\n",
       "customer_location    0\n",
       "customer_type        0\n",
       "order_id             0\n",
       "order_date           0\n",
       "order_value          0\n",
       "payment_method       0\n",
       "order_frequency      0\n",
       "discount_applied     0\n",
       "return_status        0\n",
       "product_category     0\n",
       "product_sku          0\n",
       "size                 0\n",
       "inventory_status     0\n",
       "source               0\n",
       "engagement_score     0\n",
       "dtype: int64"
      ]
     },
     "execution_count": 134,
     "metadata": {},
     "output_type": "execute_result"
    }
   ],
   "source": [
    "df.isnull().sum()"
   ]
  },
  {
   "cell_type": "markdown",
   "id": "842786ad",
   "metadata": {},
   "source": [
    "encoding the target column"
   ]
  },
  {
   "cell_type": "code",
   "execution_count": 135,
   "id": "beddfa7c",
   "metadata": {},
   "outputs": [],
   "source": [
    "df['return_status'] = df['return_status'].map({'No': 0, 'Yes': 1})"
   ]
  },
  {
   "cell_type": "markdown",
   "id": "6289c4d2",
   "metadata": {},
   "source": [
    " Feature Engineering: Extract relevant features"
   ]
  },
  {
   "cell_type": "code",
   "execution_count": 136,
   "id": "60360c7d",
   "metadata": {},
   "outputs": [],
   "source": [
    "df['total_orders'] = df.groupby('product_category')['order_id'].transform('count')\n",
    "df['total_returns'] = df.groupby('product_category')['return_status'].transform('sum')\n",
    "df['average_order_value'] = df.groupby('product_category')['order_value'].transform('mean')"
   ]
  },
  {
   "cell_type": "markdown",
   "id": "1439c3d1",
   "metadata": {},
   "source": [
    "train_test_split"
   ]
  },
  {
   "cell_type": "code",
   "execution_count": 137,
   "id": "9e590021",
   "metadata": {},
   "outputs": [],
   "source": [
    "X = df[['customer_tenure', 'order_value', 'order_frequency', 'discount_applied', 'engagement_score', 'total_orders', 'total_returns', 'average_order_value']]\n",
    "y = df['return_status']"
   ]
  },
  {
   "cell_type": "code",
   "execution_count": 138,
   "id": "a1a3f86c",
   "metadata": {},
   "outputs": [],
   "source": [
    "X_train, X_test, y_train, y_test = train_test_split(X, y, test_size=0.2, random_state=42)"
   ]
  },
  {
   "cell_type": "code",
   "execution_count": 141,
   "id": "ab46721d",
   "metadata": {},
   "outputs": [
    {
     "data": {
      "text/html": [
       "<style>#sk-container-id-1 {color: black;}#sk-container-id-1 pre{padding: 0;}#sk-container-id-1 div.sk-toggleable {background-color: white;}#sk-container-id-1 label.sk-toggleable__label {cursor: pointer;display: block;width: 100%;margin-bottom: 0;padding: 0.3em;box-sizing: border-box;text-align: center;}#sk-container-id-1 label.sk-toggleable__label-arrow:before {content: \"▸\";float: left;margin-right: 0.25em;color: #696969;}#sk-container-id-1 label.sk-toggleable__label-arrow:hover:before {color: black;}#sk-container-id-1 div.sk-estimator:hover label.sk-toggleable__label-arrow:before {color: black;}#sk-container-id-1 div.sk-toggleable__content {max-height: 0;max-width: 0;overflow: hidden;text-align: left;background-color: #f0f8ff;}#sk-container-id-1 div.sk-toggleable__content pre {margin: 0.2em;color: black;border-radius: 0.25em;background-color: #f0f8ff;}#sk-container-id-1 input.sk-toggleable__control:checked~div.sk-toggleable__content {max-height: 200px;max-width: 100%;overflow: auto;}#sk-container-id-1 input.sk-toggleable__control:checked~label.sk-toggleable__label-arrow:before {content: \"▾\";}#sk-container-id-1 div.sk-estimator input.sk-toggleable__control:checked~label.sk-toggleable__label {background-color: #d4ebff;}#sk-container-id-1 div.sk-label input.sk-toggleable__control:checked~label.sk-toggleable__label {background-color: #d4ebff;}#sk-container-id-1 input.sk-hidden--visually {border: 0;clip: rect(1px 1px 1px 1px);clip: rect(1px, 1px, 1px, 1px);height: 1px;margin: -1px;overflow: hidden;padding: 0;position: absolute;width: 1px;}#sk-container-id-1 div.sk-estimator {font-family: monospace;background-color: #f0f8ff;border: 1px dotted black;border-radius: 0.25em;box-sizing: border-box;margin-bottom: 0.5em;}#sk-container-id-1 div.sk-estimator:hover {background-color: #d4ebff;}#sk-container-id-1 div.sk-parallel-item::after {content: \"\";width: 100%;border-bottom: 1px solid gray;flex-grow: 1;}#sk-container-id-1 div.sk-label:hover label.sk-toggleable__label {background-color: #d4ebff;}#sk-container-id-1 div.sk-serial::before {content: \"\";position: absolute;border-left: 1px solid gray;box-sizing: border-box;top: 0;bottom: 0;left: 50%;z-index: 0;}#sk-container-id-1 div.sk-serial {display: flex;flex-direction: column;align-items: center;background-color: white;padding-right: 0.2em;padding-left: 0.2em;position: relative;}#sk-container-id-1 div.sk-item {position: relative;z-index: 1;}#sk-container-id-1 div.sk-parallel {display: flex;align-items: stretch;justify-content: center;background-color: white;position: relative;}#sk-container-id-1 div.sk-item::before, #sk-container-id-1 div.sk-parallel-item::before {content: \"\";position: absolute;border-left: 1px solid gray;box-sizing: border-box;top: 0;bottom: 0;left: 50%;z-index: -1;}#sk-container-id-1 div.sk-parallel-item {display: flex;flex-direction: column;z-index: 1;position: relative;background-color: white;}#sk-container-id-1 div.sk-parallel-item:first-child::after {align-self: flex-end;width: 50%;}#sk-container-id-1 div.sk-parallel-item:last-child::after {align-self: flex-start;width: 50%;}#sk-container-id-1 div.sk-parallel-item:only-child::after {width: 0;}#sk-container-id-1 div.sk-dashed-wrapped {border: 1px dashed gray;margin: 0 0.4em 0.5em 0.4em;box-sizing: border-box;padding-bottom: 0.4em;background-color: white;}#sk-container-id-1 div.sk-label label {font-family: monospace;font-weight: bold;display: inline-block;line-height: 1.2em;}#sk-container-id-1 div.sk-label-container {text-align: center;}#sk-container-id-1 div.sk-container {/* jupyter's `normalize.less` sets `[hidden] { display: none; }` but bootstrap.min.css set `[hidden] { display: none !important; }` so we also need the `!important` here to be able to override the default hidden behavior on the sphinx rendered scikit-learn.org. See: https://github.com/scikit-learn/scikit-learn/issues/21755 */display: inline-block !important;position: relative;}#sk-container-id-1 div.sk-text-repr-fallback {display: none;}</style><div id=\"sk-container-id-1\" class=\"sk-top-container\"><div class=\"sk-text-repr-fallback\"><pre>LinearRegression()</pre><b>In a Jupyter environment, please rerun this cell to show the HTML representation or trust the notebook. <br />On GitHub, the HTML representation is unable to render, please try loading this page with nbviewer.org.</b></div><div class=\"sk-container\" hidden><div class=\"sk-item\"><div class=\"sk-estimator sk-toggleable\"><input class=\"sk-toggleable__control sk-hidden--visually\" id=\"sk-estimator-id-1\" type=\"checkbox\" checked><label for=\"sk-estimator-id-1\" class=\"sk-toggleable__label sk-toggleable__label-arrow\">LinearRegression</label><div class=\"sk-toggleable__content\"><pre>LinearRegression()</pre></div></div></div></div></div>"
      ],
      "text/plain": [
       "LinearRegression()"
      ]
     },
     "execution_count": 141,
     "metadata": {},
     "output_type": "execute_result"
    }
   ],
   "source": [
    "lr=LinearRegression()\n",
    "\n",
    "lr.fit(X_train, y_train)"
   ]
  },
  {
   "cell_type": "code",
   "execution_count": 143,
   "id": "488360ef",
   "metadata": {},
   "outputs": [],
   "source": [
    "y_pred=lr.predict(X_test)"
   ]
  },
  {
   "cell_type": "code",
   "execution_count": 147,
   "id": "03f9b45e",
   "metadata": {},
   "outputs": [
    {
     "name": "stdout",
     "output_type": "stream",
     "text": [
      "mean absolute error = 0.322448983405536\n"
     ]
    }
   ],
   "source": [
    "mae= mean_absolute_error(y_test, y_pred)\n",
    "\n",
    "print(\"mean absolute error =\", mae)"
   ]
  },
  {
   "cell_type": "code",
   "execution_count": 148,
   "id": "3cb45a6e",
   "metadata": {},
   "outputs": [
    {
     "name": "stdout",
     "output_type": "stream",
     "text": [
      "     Actual  Predicted\n",
      "521       0   0.160952\n",
      "737       1   0.153244\n",
      "740       0   0.272012\n",
      "660       0   0.221863\n",
      "411       0   0.206342\n",
      "..      ...        ...\n",
      "408       0   0.238522\n",
      "332       0   0.176210\n",
      "208       0   0.173405\n",
      "613       0   0.281567\n",
      "78        0   0.267755\n",
      "\n",
      "[200 rows x 2 columns]\n"
     ]
    }
   ],
   "source": [
    "predictions = pd.DataFrame({'Actual': y_test, 'Predicted': y_pred})\n",
    "print(predictions)"
   ]
  },
  {
   "cell_type": "markdown",
   "id": "b1d988e1",
   "metadata": {},
   "source": [
    "By this model we can do:\n",
    "\n",
    "Inventory Management:\n",
    "\n",
    "You can improve inventory management by maintaining adequate stock levels for popular items and sizes.\n",
    "\n",
    "Customer Satisfaction:\n",
    "\n",
    "You can increase customer satisfaction by focusing on products with higher return rates and improving them."
   ]
  },
  {
   "cell_type": "markdown",
   "id": "26e59f53",
   "metadata": {},
   "source": [
    "# Required Visualizations"
   ]
  },
  {
   "cell_type": "code",
   "execution_count": 149,
   "id": "791e055c",
   "metadata": {},
   "outputs": [],
   "source": [
    "import pandas as pd\n",
    "import matplotlib.pyplot as plt\n",
    "import seaborn as sns"
   ]
  },
  {
   "cell_type": "code",
   "execution_count": 150,
   "id": "9e299ae0",
   "metadata": {},
   "outputs": [
    {
     "data": {
      "image/png": "[encoded data removed]",
      "text/plain": [
       "<Figure size 1000x600 with 1 Axes>"
      ]
     },
     "metadata": {},
     "output_type": "display_data"
    }
   ],
   "source": [
    "plt.figure(figsize=(10, 6))\n",
    "sns.histplot(df['order_value'], bins=30, kde=True)\n",
    "plt.title('Distribution of Order Values')\n",
    "plt.xlabel('Order Value')\n",
    "plt.ylabel('Frequency')\n",
    "plt.show()"
   ]
  },
  {
   "cell_type": "markdown",
   "id": "c57d5ce2",
   "metadata": {},
   "source": [
    "Insights:\n",
    "\n",
    "Order Value Range: The majority of orders fall within a specific price range.\n",
    "\n",
    "High-Value Orders: There are a few high-value orders indicating premium purchases."
   ]
  },
  {
   "cell_type": "code",
   "execution_count": 151,
   "id": "6e7c2226",
   "metadata": {},
   "outputs": [
    {
     "data": {
      "image/png": "[encoded data removed]",
      "text/plain": [
       "<Figure size 1000x600 with 1 Axes>"
      ]
     },
     "metadata": {},
     "output_type": "display_data"
    }
   ],
   "source": [
    "plt.figure(figsize=(10, 6))\n",
    "sns.countplot(x='product_category', data=df, palette='viridis')\n",
    "plt.title('Orders by Product Category')\n",
    "plt.xlabel('Product Category')\n",
    "plt.ylabel('Number of Orders')\n",
    "plt.xticks(rotation=45)\n",
    "plt.show()"
   ]
  },
  {
   "cell_type": "markdown",
   "id": "3e5c1205",
   "metadata": {},
   "source": [
    "Insights:\n",
    "\n",
    "Popular Categories: T-Shirts and Jackets are the most frequently ordered categories.\n",
    "\n",
    "Less Popular Categories: Categories sweatshrits have fewer orders."
   ]
  },
  {
   "cell_type": "code",
   "execution_count": 155,
   "id": "a12f8323",
   "metadata": {},
   "outputs": [
    {
     "data": {
      "image/png": "[encoded data removed]",
      "text/plain": [
       "<Figure size 1000x600 with 1 Axes>"
      ]
     },
     "metadata": {},
     "output_type": "display_data"
    }
   ],
   "source": [
    "plt.figure(figsize=(10, 6))\n",
    "sns.countplot(x='product_category', hue='return_status', data=df, palette='coolwarm')\n",
    "plt.title('Return Status by Product Category')\n",
    "plt.xlabel('Product Category')\n",
    "plt.ylabel('Number of Orders')\n",
    "plt.xticks(rotation=45)\n",
    "plt.show()"
   ]
  },
  {
   "cell_type": "markdown",
   "id": "06f63ada",
   "metadata": {},
   "source": [
    "Insights:\n",
    "\n",
    "High Returns: Some categories like Shirts and Jeans have higher return rates.\n",
    "\n",
    "Low Returns: Jacket and Dresses have relatively lower return rates."
   ]
  },
  {
   "cell_type": "code",
   "execution_count": 153,
   "id": "4b2626e9",
   "metadata": {},
   "outputs": [
    {
     "data": {
      "image/png": "[encoded data removed]",
      "text/plain": [
       "<Figure size 1000x600 with 1 Axes>"
      ]
     },
     "metadata": {},
     "output_type": "display_data"
    }
   ],
   "source": [
    "plt.figure(figsize=(10, 6))\n",
    "sns.boxplot(x='engagement_score', data=df)\n",
    "plt.title('Engagement Score Distribution')\n",
    "plt.xlabel('Engagement Score')\n",
    "plt.show()"
   ]
  },
  {
   "cell_type": "markdown",
   "id": "5c8669a4",
   "metadata": {},
   "source": [
    "Insights:\n",
    "\n",
    "Engagement Range: There is a wide range of engagement scores among customers.\n",
    "\n",
    "High Engagement: Some customers have very high engagement scores, indicating strong interaction with the brand."
   ]
  },
  {
   "cell_type": "code",
   "execution_count": null,
   "id": "be88366d",
   "metadata": {},
   "outputs": [],
   "source": []
  }
 ],
 "metadata": {
  "kernelspec": {
   "display_name": "Python 3 (ipykernel)",
   "language": "python",
   "name": "python3"
  },
  "language_info": {
   "codemirror_mode": {
    "name": "ipython",
    "version": 3
   },
   "file_extension": ".py",
   "mimetype": "text/x-python",
   "name": "python",
   "nbconvert_exporter": "python",
   "pygments_lexer": "ipython3",
   "version": "3.11.5"
  }
 },
 "nbformat": 4,
 "nbformat_minor": 5
}
